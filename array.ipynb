{
 "cells": [
  {
   "cell_type": "code",
   "execution_count": 2,
   "id": "da8d90e4",
   "metadata": {},
   "outputs": [],
   "source": [
    "import numpy as np\n",
    "a=np.array([[1,2,3],[4,5,6],[7,8,9]])"
   ]
  },
  {
   "cell_type": "code",
   "execution_count": 3,
   "id": "ff3ccbc6",
   "metadata": {},
   "outputs": [
    {
     "name": "stdout",
     "output_type": "stream",
     "text": [
      "shape (3, 3)\n"
     ]
    }
   ],
   "source": [
    "b=a.shape\n",
    "print(\"shape\",b)"
   ]
  },
  {
   "cell_type": "code",
   "execution_count": 4,
   "id": "012190e7",
   "metadata": {},
   "outputs": [
    {
     "name": "stdout",
     "output_type": "stream",
     "text": [
      "no of dimension 2\n"
     ]
    }
   ],
   "source": [
    "c=a.ndim\n",
    "print(\"no of dimension\",c)"
   ]
  },
  {
   "cell_type": "code",
   "execution_count": 8,
   "id": "1838b9f0",
   "metadata": {},
   "outputs": [
    {
     "name": "stdout",
     "output_type": "stream",
     "text": [
      "zeros\n",
      " [[0. 0.]\n",
      " [0. 0.]]\n",
      "ones\n",
      " [[1. 1.]\n",
      " [1. 1.]]\n"
     ]
    }
   ],
   "source": [
    "z=np.zeros((2,2))\n",
    "print(\"zeros\\n\",z)\n",
    "o=np.ones((2,2))\n",
    "print(\"ones\\n\",o)"
   ]
  },
  {
   "cell_type": "code",
   "execution_count": 10,
   "id": "a79033d1",
   "metadata": {},
   "outputs": [
    {
     "name": "stdout",
     "output_type": "stream",
     "text": [
      "reshape\n",
      " [[[1 2]\n",
      "  [3 4]]\n",
      "\n",
      " [[2 3]\n",
      "  [4 5]]\n",
      "\n",
      " [[3 4]\n",
      "  [5 6]]\n",
      "\n",
      " [[4 5]\n",
      "  [6 7]]]\n",
      "flatten\n",
      " [1 2 3 4 2 3 4 5 3 4 5 6 4 5 6 7]\n"
     ]
    }
   ],
   "source": [
    "a=np.array([[1,2,3,4],[2,3,4,5],[3,4,5,6],[4,5,6,7]])\n",
    "b=a.reshape(4,2,2)\n",
    "print(\"reshape\\n\",b)\n",
    "c=a.flatten()\n",
    "print(\"flatten\\n\",c)"
   ]
  },
  {
   "cell_type": "code",
   "execution_count": 12,
   "id": "ada2e824",
   "metadata": {},
   "outputs": [
    {
     "name": "stdout",
     "output_type": "stream",
     "text": [
      "vertically\n",
      " [[1 2 3 4]\n",
      " [2 3 4 5]\n",
      " [3 4 5 6]\n",
      " [4 5 6 7]]\n"
     ]
    }
   ],
   "source": [
    "#vertically\n",
    "v=np.vstack(a)\n",
    "print(\"vertically\\n\",v)"
   ]
  },
  {
   "cell_type": "code",
   "execution_count": 14,
   "id": "dee5a1f2",
   "metadata": {},
   "outputs": [
    {
     "name": "stdout",
     "output_type": "stream",
     "text": [
      "horizantally\n",
      " [1 2 3 4 2 3 4 5 3 4 5 6 4 5 6 7]\n"
     ]
    }
   ],
   "source": [
    "h=np.hstack(a)\n",
    "print(\"horizantally\\n\",h)"
   ]
  },
  {
   "cell_type": "code",
   "execution_count": 20,
   "id": "bd256c93",
   "metadata": {},
   "outputs": [
    {
     "name": "stdout",
     "output_type": "stream",
     "text": [
      "[[1 2 3 4]\n",
      " [2 3 4 5]\n",
      " [3 4 5 6]\n",
      " [4 5 6 7]]\n",
      "indexing [2 3 4 5]\n"
     ]
    }
   ],
   "source": [
    "print(a)\n",
    "temp=a[[0,1,2,3],[1,1,1,1]]\n",
    "print(\"indexing\",temp)"
   ]
  },
  {
   "cell_type": "code",
   "execution_count": 21,
   "id": "13247a36",
   "metadata": {},
   "outputs": [
    {
     "name": "stdout",
     "output_type": "stream",
     "text": [
      "[[1 3]\n",
      " [2 4]\n",
      " [3 5]\n",
      " [4 6]]\n"
     ]
    }
   ],
   "source": [
    "i=a[:4,::2]\n",
    "print(i)"
   ]
  },
  {
   "cell_type": "code",
   "execution_count": 16,
   "id": "f9a07a92",
   "metadata": {},
   "outputs": [
    {
     "name": "stdout",
     "output_type": "stream",
     "text": [
      "min -7\n",
      "max 4\n"
     ]
    }
   ],
   "source": [
    "import numpy as np\n",
    "a=np.array([[0,2,-5,4],[1,-3,4,-7]])\n",
    "min=a.min()\n",
    "print(\"min\",min)\n",
    "max=a.max()\n",
    "print(\"max\",max)"
   ]
  },
  {
   "cell_type": "code",
   "execution_count": 15,
   "id": "aadcec5e",
   "metadata": {},
   "outputs": [
    {
     "name": "stdout",
     "output_type": "stream",
     "text": [
      "mean 3.0\n",
      "median 3.0\n",
      "Standard deviation 1.4142135623730951\n"
     ]
    }
   ],
   "source": [
    "import numpy as np\n",
    "a=np.array([1,2,3,4,5])\n",
    "mean=a.mean()\n",
    "print(\"mean\",mean)\n",
    "median=np.median(a)\n",
    "print(\"median\",median)\n",
    "std=np.std(a)\n",
    "print(\"Standard deviation\",std)"
   ]
  }
 ],
 "metadata": {
  "kernelspec": {
   "display_name": "Python 3 (ipykernel)",
   "language": "python",
   "name": "python3"
  },
  "language_info": {
   "codemirror_mode": {
    "name": "ipython",
    "version": 3
   },
   "file_extension": ".py",
   "mimetype": "text/x-python",
   "name": "python",
   "nbconvert_exporter": "python",
   "pygments_lexer": "ipython3",
   "version": "3.10.0"
  }
 },
 "nbformat": 4,
 "nbformat_minor": 5
}
