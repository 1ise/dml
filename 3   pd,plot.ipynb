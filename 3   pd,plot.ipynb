{
 "cells": [
  {
   "cell_type": "code",
   "execution_count": 21,
   "id": "8b325a1f",
   "metadata": {},
   "outputs": [
    {
     "data": {
      "text/html": [
       "<div>\n",
       "<style scoped>\n",
       "    .dataframe tbody tr th:only-of-type {\n",
       "        vertical-align: middle;\n",
       "    }\n",
       "\n",
       "    .dataframe tbody tr th {\n",
       "        vertical-align: top;\n",
       "    }\n",
       "\n",
       "    .dataframe thead th {\n",
       "        text-align: right;\n",
       "    }\n",
       "</style>\n",
       "<table border=\"1\" class=\"dataframe\">\n",
       "  <thead>\n",
       "    <tr style=\"text-align: right;\">\n",
       "      <th></th>\n",
       "      <th>student</th>\n",
       "      <th>rollno</th>\n",
       "      <th>marks</th>\n",
       "    </tr>\n",
       "  </thead>\n",
       "  <tbody>\n",
       "    <tr>\n",
       "      <th>0</th>\n",
       "      <td>a1</td>\n",
       "      <td>121</td>\n",
       "      <td>98</td>\n",
       "    </tr>\n",
       "    <tr>\n",
       "      <th>1</th>\n",
       "      <td>a2</td>\n",
       "      <td>122</td>\n",
       "      <td>82</td>\n",
       "    </tr>\n",
       "    <tr>\n",
       "      <th>2</th>\n",
       "      <td>a3</td>\n",
       "      <td>123</td>\n",
       "      <td>92</td>\n",
       "    </tr>\n",
       "    <tr>\n",
       "      <th>3</th>\n",
       "      <td>a4</td>\n",
       "      <td>124</td>\n",
       "      <td>78</td>\n",
       "    </tr>\n",
       "  </tbody>\n",
       "</table>\n",
       "</div>"
      ],
      "text/plain": [
       "  student  rollno  marks\n",
       "0      a1     121     98\n",
       "1      a2     122     82\n",
       "2      a3     123     92\n",
       "3      a4     124     78"
      ]
     },
     "execution_count": 21,
     "metadata": {},
     "output_type": "execute_result"
    }
   ],
   "source": [
    "import pandas as pd\n",
    "pd.read_csv(r\"newfile.csv\")"
   ]
  },
  {
   "cell_type": "code",
   "execution_count": 30,
   "id": "a71b4129",
   "metadata": {},
   "outputs": [
    {
     "name": "stdout",
     "output_type": "stream",
     "text": [
      "shape: (768, 9)\n"
     ]
    }
   ],
   "source": [
    "#shape\n",
    "a=pd.read_csv(r\"diabetes.csv\")\n",
    "print('shape:',a.shape)"
   ]
  },
  {
   "cell_type": "code",
   "execution_count": 31,
   "id": "0dd836f9",
   "metadata": {},
   "outputs": [
    {
     "name": "stdout",
     "output_type": "stream",
     "text": [
      "Number of Column: 9\n"
     ]
    }
   ],
   "source": [
    "#no of columns\n",
    "cols=len(a.axes[1])\n",
    "print('Number of Column:',cols)"
   ]
  },
  {
   "cell_type": "code",
   "execution_count": 32,
   "id": "d081e082",
   "metadata": {},
   "outputs": [
    {
     "name": "stdout",
     "output_type": "stream",
     "text": [
      "Mean of Age: 33.240885416666664\n"
     ]
    }
   ],
   "source": [
    "#mean\n",
    "m=a[\"Age\"].mean()\n",
    "print('Mean of Age:',m)"
   ]
  },
  {
   "cell_type": "code",
   "execution_count": 35,
   "id": "ee01c49b",
   "metadata": {},
   "outputs": [
    {
     "name": "stdout",
     "output_type": "stream",
     "text": [
      "  student  rollno  marks       address\n",
      "0      a1     121     98  hyderabad,ts\n",
      "1      a2     122     82   Warangal,ts\n",
      "2      a3     123     92   Adilabad,ts\n",
      "3      a4     124     78      medak,ts\n",
      "  student  rollno  marks   district state\n",
      "0      a1     121     98  hyderabad    ts\n",
      "1      a2     122     82   Warangal    ts\n",
      "2      a3     123     92   Adilabad    ts\n",
      "3      a4     124     78      medak    ts\n"
     ]
    }
   ],
   "source": [
    "a=pd.read_csv(r\"newfile.csv\")\n",
    "#adding data\n",
    "a['address']=[\"hyderabad,ts\",\"Warangal,ts\",\"Adilabad,ts\",\"medak,ts\"] \n",
    "print(a)\n",
    "#splitting dataframe\n",
    "a_split=a['address'].str.split(',',1) \n",
    "a['district']=a_split.str.get(0) \n",
    "a['state']=a_split.str.get(1) \n",
    "del(a['address'])\n",
    "print(a)"
   ]
  },
  {
   "cell_type": "code",
   "execution_count": 36,
   "id": "a5850f35",
   "metadata": {},
   "outputs": [
    {
     "data": {
      "text/plain": [
       "<AxesSubplot:xlabel='marks', ylabel='rollno'>"
      ]
     },
     "execution_count": 36,
     "metadata": {},
     "output_type": "execute_result"
    },
    {
     "data": {
      "image/png": "[encoded data removed]",
      "text/plain": [
       "<Figure size 432x288 with 1 Axes>"
      ]
     },
     "metadata": {
      "needs_background": "light"
     },
     "output_type": "display_data"
    }
   ],
   "source": [
    "#visualize data using scatter plotimportmatplotlib as plt\n",
    "a.plot.scatter(x='marks',y='rollno',c='Blue')"
   ]
  }
 ],
 "metadata": {
  "kernelspec": {
   "display_name": "Python 3 (ipykernel)",
   "language": "python",
   "name": "python3"
  },
  "language_info": {
   "codemirror_mode": {
    "name": "ipython",
    "version": 3
   },
   "file_extension": ".py",
   "mimetype": "text/x-python",
   "name": "python",
   "nbconvert_exporter": "python",
   "pygments_lexer": "ipython3",
   "version": "3.10.0"
  }
 },
 "nbformat": 4,
 "nbformat_minor": 5
}
