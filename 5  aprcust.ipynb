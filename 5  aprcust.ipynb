{
 "cells": [
  {
   "cell_type": "code",
   "execution_count": 6,
   "id": "821a4693",
   "metadata": {},
   "outputs": [
    {
     "name": "stdout",
     "output_type": "stream",
     "text": [
      "[['1', '3', '4', 'nan', 'nan', 'nan'], ['2', '3', '5', 'nan', 'nan', 'nan'], ['1', '2', '3', '5', 'nan', 'nan'], ['3', '4', '6', 'nan', 'nan', 'nan'], ['2', '3', '5', '6', 'nan', 'nan'], ['1', '5', '6', 'nan', 'nan', 'nan'], ['2', '4', '5', 'nan', 'nan', 'nan'], ['1', '2', '5', '6', 'nan', 'nan'], ['3', '4', '5', 'nan', 'nan', 'nan'], ['1', '4', '6', 'nan', 'nan', 'nan']]\n",
      "Rule:5->2\n",
      "support:0.1\n",
      "confidence:0.2\n",
      "Lift:2.0\n",
      "\tEnd\n",
      "\n",
      "Rule:5->6\n",
      "support:0.1\n",
      "confidence:0.2\n",
      "Lift:2.0\n",
      "\tEnd\n",
      "\n",
      "Rule:nan->2\n",
      "support:0.1\n",
      "confidence:0.2\n",
      "Lift:2.0\n",
      "\tEnd\n",
      "\n",
      "Rule:nan->6\n",
      "support:0.1\n",
      "confidence:0.2\n",
      "Lift:2.0\n",
      "\tEnd\n",
      "\n"
     ]
    }
   ],
   "source": [
    "# to install apyori 'pip install apyori'\n",
    "from apyori import apriori\n",
    "import pandas as pd\n",
    "# Creating custom transactions\n",
    "cust = [['1', '3', '4','nan','nan','nan'],\n",
    " ['2', '3', '5','nan','nan','nan'],\n",
    " ['1', '2', '3', '5','nan','nan'],\n",
    " ['3', '4', '6','nan','nan','nan'],\n",
    " ['2', '3', '5', '6','nan','nan'],\n",
    " ['1', '5', '6','nan','nan','nan'],\n",
    " ['2', '4', '5','nan','nan','nan'],\n",
    " ['1', '2', '5', '6','nan','nan'],\n",
    " ['3', '4', '5','nan','nan','nan'],\n",
    " ['1', '4', '6', 'nan', 'nan', 'nan']]\n",
    "print(cust)\n",
    "association_rules = apriori(cust, min_support = 0.005, min_confidence=0.2, min_lift=2, min_length=2)\n",
    "association_results = list(association_rules)\n",
    "association_results[0]\n",
    "for item in association_results:\n",
    " pair = item[0]\n",
    " items = [x for x in pair]\n",
    " print(\"Rule:\"+items[0]+\"->\"+items[1])\n",
    " print(\"support:\"+str(item[1]))\n",
    " print(\"confidence:\"+str(item[2][0][2]))\n",
    " print(\"Lift:\"+str(item[2][0][3]))\n",
    " print(\"\\tEnd\\n\")\n"
   ]
  },
  {
   "cell_type": "code",
   "execution_count": null,
   "id": "3184ade1",
   "metadata": {},
   "outputs": [],
   "source": []
  }
 ],
 "metadata": {
  "kernelspec": {
   "display_name": "Python 3 (ipykernel)",
   "language": "python",
   "name": "python3"
  },
  "language_info": {
   "codemirror_mode": {
    "name": "ipython",
    "version": 3
   },
   "file_extension": ".py",
   "mimetype": "text/x-python",
   "name": "python",
   "nbconvert_exporter": "python",
   "pygments_lexer": "ipython3",
   "version": "3.10.0"
  }
 },
 "nbformat": 4,
 "nbformat_minor": 5
}
