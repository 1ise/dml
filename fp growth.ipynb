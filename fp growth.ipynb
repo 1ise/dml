{
 "cells": [
  {
   "cell_type": "code",
   "execution_count": 3,
   "id": "fbcf9e00",
   "metadata": {},
   "outputs": [
    {
     "name": "stdout",
     "output_type": "stream",
     "text": [
      "   Apple   Corn   Eggs  Ice cream  Kidney Beans   Milk  Nutmeg  Onion  \\\n",
      "0  False  False   True      False          True   True    True   True   \n",
      "1  False  False   True      False          True   True    True   True   \n",
      "2   True  False   True      False          True   True   False  False   \n",
      "3  False   True  False      False          True   True   False  False   \n",
      "4  False   True   True       True          True  False   False   True   \n",
      "\n",
      "   Unicorn  Yogurt  \n",
      "0    False    True  \n",
      "1    False    True  \n",
      "2    False   False  \n",
      "3     True    True  \n",
      "4    False   False  \n",
      "    support                      itemsets\n",
      "0       1.0                (Kidney Beans)\n",
      "1       0.8                        (Milk)\n",
      "2       0.8                        (Eggs)\n",
      "3       0.6                      (Yogurt)\n",
      "4       0.6                       (Onion)\n",
      "5       0.8          (Kidney Beans, Milk)\n",
      "6       0.8          (Kidney Beans, Eggs)\n",
      "7       0.6                  (Milk, Eggs)\n",
      "8       0.6    (Kidney Beans, Milk, Eggs)\n",
      "9       0.6                (Milk, Yogurt)\n",
      "10      0.6        (Kidney Beans, Yogurt)\n",
      "11      0.6  (Kidney Beans, Milk, Yogurt)\n",
      "12      0.6                 (Onion, Eggs)\n",
      "13      0.6         (Onion, Kidney Beans)\n",
      "14      0.6   (Onion, Kidney Beans, Eggs)\n"
     ]
    }
   ],
   "source": [
    "#to install mlxtend use 'pip install mlxtend'\n",
    "import pandas as pd\n",
    "from mlxtend.frequent_patterns import fpgrowth\n",
    "from mlxtend.preprocessing import TransactionEncoder\n",
    "dataset = [['Milk', 'Onion', 'Nutmeg', 'Kidney Beans', 'Eggs', 'Yogurt'],\n",
    " ['Milk', 'Onion', 'Nutmeg', 'Kidney Beans', 'Eggs', 'Yogurt'],\n",
    " ['Milk', 'Apple', 'Kidney Beans', 'Eggs'],\n",
    " ['Milk', 'Unicorn', 'Corn', 'Kidney Beans', 'Yogurt'],\n",
    " ['Corn', 'Onion', 'Onion', 'Kidney Beans', 'Ice cream', 'Eggs']]\n",
    "te = TransactionEncoder()\n",
    "te_ary = te.fit(dataset).transform(dataset)\n",
    "df = pd.DataFrame(te_ary, columns=te.columns_)\n",
    "print(df.head())\n",
    "# 60% minimum support\n",
    "tb_df = fpgrowth(df, min_support=0.6, use_colnames=True)\n",
    "print(tb_df)"
   ]
  }
 ],
 "metadata": {
  "kernelspec": {
   "display_name": "Python 3 (ipykernel)",
   "language": "python",
   "name": "python3"
  },
  "language_info": {
   "codemirror_mode": {
    "name": "ipython",
    "version": 3
   },
   "file_extension": ".py",
   "mimetype": "text/x-python",
   "name": "python",
   "nbconvert_exporter": "python",
   "pygments_lexer": "ipython3",
   "version": "3.9.7"
  }
 },
 "nbformat": 4,
 "nbformat_minor": 5
}
