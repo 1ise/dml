{
 "cells": [
  {
   "cell_type": "code",
   "execution_count": 3,
   "id": "a3a1ee0b",
   "metadata": {},
   "outputs": [
    {
     "name": "stdout",
     "output_type": "stream",
     "text": [
      "Dot matrix= 32\n"
     ]
    }
   ],
   "source": [
    "import numpy as np\n",
    "a=np.array([1,2,3])\n",
    "b=np.array([4,5,6])\n",
    "print(\"Dot matrix=\",np.dot(a,b))"
   ]
  },
  {
   "cell_type": "code",
   "execution_count": 8,
   "id": "21f685fc",
   "metadata": {},
   "outputs": [
    {
     "name": "stdout",
     "output_type": "stream",
     "text": [
      "element multiplication [[ 5 12]\n",
      " [21 32]]\n",
      "matrix multiplication [[19 22]\n",
      " [43 50]]\n"
     ]
    }
   ],
   "source": [
    "a=np.array([[1,2],[3,4]])\n",
    "b=np.array([[5,6],[7,8]])\n",
    "print(\"element multiplication\",np.multiply(a,b))\n",
    "print(\"matrix multiplication\",np.matmul(a,b))"
   ]
  },
  {
   "cell_type": "code",
   "execution_count": 12,
   "id": "9a386c89",
   "metadata": {},
   "outputs": [
    {
     "name": "stdout",
     "output_type": "stream",
     "text": [
      "Eigen Values [ 2. -5.] \n",
      "Eigen vectors\n",
      " [[ 0.89442719 -0.31622777]\n",
      " [ 0.4472136   0.9486833 ]]\n"
     ]
    }
   ],
   "source": [
    "a=np.array([[1,2],[3,-4]])\n",
    "eigvalues,eigvectors=np.linalg.eig(a)\n",
    "print(\"Eigen Values\",eigvalues,\"\\nEigen vectors\\n\",eigvectors)"
   ]
  },
  {
   "cell_type": "code",
   "execution_count": 16,
   "id": "9306688d",
   "metadata": {},
   "outputs": [
    {
     "name": "stdout",
     "output_type": "stream",
     "text": [
      "linear equation\n",
      " [[2.]\n",
      " [3.]]\n"
     ]
    }
   ],
   "source": [
    "a=np.array([[3,1],[1,2]])\n",
    "b=np.array([[9],[8]])\n",
    "inv=np.linalg.inv(a)\n",
    "e=np.matmul(inv,b)\n",
    "print(\"linear equation\\n\",e)"
   ]
  },
  {
   "cell_type": "code",
   "execution_count": 17,
   "id": "c6ca3a3c",
   "metadata": {},
   "outputs": [
    {
     "name": "stdout",
     "output_type": "stream",
     "text": [
      "a inverse: [[ 0.4 -0.2]\n",
      " [-0.2  0.6]]\n"
     ]
    }
   ],
   "source": [
    "import  numpy as np \n",
    "a=np.array([[3,1],[1,2]]) \n",
    "a_inv=np.linalg.inv(a) \n",
    "print(\"a inverse:\",a_inv)"
   ]
  },
  {
   "cell_type": "code",
   "execution_count": 19,
   "id": "d189558e",
   "metadata": {},
   "outputs": [
    {
     "name": "stdout",
     "output_type": "stream",
     "text": [
      "rank: 2\n"
     ]
    }
   ],
   "source": [
    "a=np.array([[3,1],[1,2]]) \n",
    "b=np.linalg.matrix_rank(a) \n",
    "print(\"rank:\",b)"
   ]
  },
  {
   "cell_type": "code",
   "execution_count": 23,
   "id": "ae4772c1",
   "metadata": {},
   "outputs": [
    {
     "name": "stdout",
     "output_type": "stream",
     "text": [
      "determinant: 5.000000000000001\n"
     ]
    }
   ],
   "source": [
    "a=np.array([[3,1],[1,2]])\n",
    "b=np.linalg.det(a) \n",
    "print(\"determinant:\",b)"
   ]
  }
 ],
 "metadata": {
  "kernelspec": {
   "display_name": "Python 3 (ipykernel)",
   "language": "python",
   "name": "python3"
  },
  "language_info": {
   "codemirror_mode": {
    "name": "ipython",
    "version": 3
   },
   "file_extension": ".py",
   "mimetype": "text/x-python",
   "name": "python",
   "nbconvert_exporter": "python",
   "pygments_lexer": "ipython3",
   "version": "3.10.0"
  }
 },
 "nbformat": 4,
 "nbformat_minor": 5
}
